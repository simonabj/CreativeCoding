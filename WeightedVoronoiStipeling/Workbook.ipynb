{
 "cells": [
  {
   "cell_type": "code",
   "execution_count": 1,
   "metadata": {},
   "outputs": [
    {
     "name": "stderr",
     "output_type": "stream",
     "text": [
      "\u001b[32m\u001b[1m   Resolving\u001b[22m\u001b[39m package versions...\n"
     ]
    },
    {
     "name": "stderr",
     "output_type": "stream",
     "text": [
      "\u001b[32m\u001b[1m  No Changes\u001b[22m\u001b[39m to `~/.julia/environments/v1.9/Project.toml`\n",
      "\u001b[32m\u001b[1m  No Changes\u001b[22m\u001b[39m to `~/.julia/environments/v1.9/Manifest.toml`\n"
     ]
    }
   ],
   "source": [
    "# Preamble: load packages\n",
    "import Pkg;\n",
    "\n",
    "Pkg.add([\n",
    "    \"CairoMakie\",\n",
    "    \"VoronoiCells\",\n",
    "    \"Images\",\n",
    "    \"GeometryBasics\",\n",
    "])\n",
    "using CairoMakie\n",
    "using VoronoiCells, GeometryBasics\n",
    "using Images\n"
   ]
  },
  {
   "cell_type": "code",
   "execution_count": 73,
   "metadata": {},
   "outputs": [
    {
     "data": {
      "text/plain": [
       "centroid (generic function with 1 method)"
      ]
     },
     "metadata": {},
     "output_type": "display_data"
    }
   ],
   "source": [
    "function area(polygon)\n",
    "    A = 0.0\n",
    "    @inbounds for i in eachindex(polygon)\n",
    "        x1,y1 = polygon[i]\n",
    "        x2,y2 = polygon[(i + 1) % length(polygon) + 1]\n",
    "\n",
    "        A += x1 * y2 - x2 * y1\n",
    "    end\n",
    "\n",
    "    return A / 2\n",
    "end\n",
    "\n",
    "function centroid(polygon)\n",
    "    A = 0.0\n",
    "    c_x = 0.0\n",
    "    c_y = 0.0\n",
    "\n",
    "    for i in eachindex(polygon) \n",
    "        @show polygon[i]\n",
    "        x1,y1 = polygon[i]\n",
    "        x2,y2 = polygon[(i+1) % length(polygon) + 1]\n",
    "\n",
    "        det = x1 * y2 - x2 * y1        \n",
    "        A += det\n",
    "        c_x += (x1 + x2) * det\n",
    "        c_y += (y1 + y2) * det\n",
    "    end\n",
    "\n",
    "    return Point2([c_x, c_y] / 12A)\n",
    "end"
   ]
  },
  {
   "cell_type": "code",
   "execution_count": 69,
   "metadata": {},
   "outputs": [
    {
     "data": {
      "text/plain": [
       "10-element Vector{Point2{Float64}}:\n",
       " [0.09577944612238709, 0.9559505001061563]\n",
       " [0.7820099242673992, 0.47766253993627117]\n",
       " [0.8391521481449994, 0.9719709462216094]\n",
       " [0.4706786068878763, 0.9705909236902359]\n",
       " [0.7237763976821792, 0.8562382911692774]\n",
       " [0.6224746803683803, 0.4493794763684037]\n",
       " [0.46499735798128705, 0.01309193085887872]\n",
       " [0.9280622071093937, 0.3243986700214886]\n",
       " [0.3887027684889006, 0.13992561951521965]\n",
       " [0.24692160387187845, 0.15667113683510325]"
      ]
     },
     "metadata": {},
     "output_type": "display_data"
    }
   ],
   "source": [
    "# Quick voronoi demo\n",
    "\n",
    "# Bounding box\n",
    "bbox = Rectangle(Point2(0,0), Point2(1,1))\n",
    "points = Point2.(eachcol(rand(2, 10)))"
   ]
  },
  {
   "cell_type": "code",
   "execution_count": 91,
   "metadata": {},
   "outputs": [
    {
     "name": "stdout",
     "output_type": "stream",
     "text": [
      "polygon[i] = [0.28179468790950934, 1.0]\n",
      "polygon[i] = [0.29597045338251327, 0.6369993976938938]\n",
      "polygon[i] = [0.22881633265966006, 0.5671774898324253]\n",
      "polygon[i] = [0.0, 0.5239087707390504]\n",
      "polygon[i] = [0.0, 1.0]\n"
     ]
    },
    {
     "data": {
      "text/plain": [
       "2-element Point2{Float64} with indices SOneTo(2):\n",
       " 0.042844342253837896\n",
       " 0.18062684950874072"
      ]
     },
     "metadata": {},
     "output_type": "display_data"
    }
   ],
   "source": [
    "voro_tess = voronoicells(points, bbox)\n",
    "centroids = centroid(reverse(voro_tess.Cells[1]))"
   ]
  },
  {
   "cell_type": "code",
   "execution_count": 93,
   "metadata": {},
   "outputs": [
    {
     "data": {
      "image/png": "[encoded data removed]"
     },
     "metadata": {},
     "output_type": "display_data"
    }
   ],
   "source": [
    "fig,ax,scat_plot = scatter(points, color=:red, label=\"Point\")\n",
    "cent_plot = scatter!(ax, centroids, color=:blue, label=\"Center\")\n",
    "\n",
    "polys = Polygon(voro_tess.Cells[1])\n",
    "\n",
    "p_list = []\n",
    "for i in 1:length(voro_tess.Cells[1])\n",
    "    push!(p_list, scatter!(ax, reverse(voro_tess.Cells[1])[i]))\n",
    "end\n",
    "\n",
    "poly!(ax, polys, color=:transparent, strokewidth=1)\n",
    "\n",
    "Legend(fig[1,2], p_list, [\"P: $i\" for i in 1:length(voro_tess.Cells[1])])\n",
    "# poly_lines = poly!(Ref(ax), polys, color=:transparent, strokewidth=1, srokecolor=:blue)\n",
    "# Legend(fig[1,2], [scat_plot, cent_plot, poly_lines[1]], [\"Point\", \"Center\", \"Voronoi Cell\"])\n",
    "fig"
   ]
  },
  {
   "cell_type": "code",
   "execution_count": null,
   "metadata": {},
   "outputs": [],
   "source": []
  }
 ],
 "metadata": {
  "kernelspec": {
   "display_name": "Julia 1.9.4",
   "language": "julia",
   "name": "julia-1.9"
  },
  "language_info": {
   "file_extension": ".jl",
   "mimetype": "application/julia",
   "name": "julia",
   "version": "1.9.4"
  }
 },
 "nbformat": 4,
 "nbformat_minor": 2
}
